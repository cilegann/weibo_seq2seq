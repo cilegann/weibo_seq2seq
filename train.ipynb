{
 "cells": [
  {
   "cell_type": "code",
   "execution_count": 1,
   "metadata": {},
   "outputs": [
    {
     "name": "stderr",
     "output_type": "stream",
     "text": [
      "Using TensorFlow backend.\n"
     ]
    }
   ],
   "source": [
    "from keras.models import Model\n",
    "from keras.layers import Input, LSTM, Dense\n",
    "import numpy as np"
   ]
  },
  {
   "cell_type": "code",
   "execution_count": 2,
   "metadata": {},
   "outputs": [],
   "source": [
    "post='stc_weibo_train_post'\n",
    "response='stc_weibo_train_response'"
   ]
  },
  {
   "cell_type": "code",
   "execution_count": 3,
   "metadata": {},
   "outputs": [],
   "source": [
    "batch_size=64\n",
    "epochs=100\n",
    "latent_dim=256\n",
    "num_samples=10000\n",
    "split_word=\" \""
   ]
  },
  {
   "cell_type": "code",
   "execution_count": 4,
   "metadata": {},
   "outputs": [],
   "source": [
    "input_texts=[]\n",
    "target_texts=[]\n",
    "input_words=set()\n",
    "target_words=set()\n",
    "input_words.add(split_word)\n",
    "target_words.add(split_word)"
   ]
  },
  {
   "cell_type": "code",
   "execution_count": 6,
   "metadata": {},
   "outputs": [
    {
     "name": "stdout",
     "output_type": "stream",
     "text": [
      "Num of samples: 10000\n",
      "Num of unique input token: 19124\n",
      "Num of unique ratget token: 16896\n",
      "Max seq of input: 33\n",
      "Max seq of target: 30\n"
     ]
    }
   ],
   "source": [
    "with open(post, encoding = 'utf8') as f:\n",
    "    post_lines=f.readlines()\n",
    "with open(response, encoding = 'utf8')  as f:\n",
    "    response_lines=f.readlines()\n",
    "for pl,rl in zip(post_lines[:min(num_samples,len(post_lines)-1)],response_lines[:min(num_samples,len(post_lines)-1)]):\n",
    "    pl=pl.replace(\"\\n\",\"\").split(split_word)\n",
    "    rl=rl.replace(\"\\n\",\"\").split(split_word)\n",
    "    input_texts.append(pl)\n",
    "    rl=['\\t']+rl+['\\n']\n",
    "    target_texts.append(rl)\n",
    "    for word in pl:\n",
    "        if word not in input_words:\n",
    "            input_words.add(word)\n",
    "    for word in rl:\n",
    "        if word not in target_words:\n",
    "            target_words.add(word)\n",
    "input_words=sorted(list(input_words))\n",
    "target_words=sorted(list(target_words))\n",
    "num_encoder_tokens=len(input_words)\n",
    "num_decoder_tokens=len(target_words)\n",
    "max_encoder_seq_length=max([len(txt) for txt in input_texts])\n",
    "max_decoder_seq_length=max([len(txt) for txt in target_texts])\n",
    "print(\"Num of samples:\",num_samples )\n",
    "print(\"Num of unique input token:\",num_encoder_tokens)\n",
    "print(\"Num of unique ratget token:\",num_decoder_tokens)\n",
    "print(\"Max seq of input:\",max_encoder_seq_length)\n",
    "print(\"Max seq of target:\",max_decoder_seq_length)"
   ]
  },
  {
   "cell_type": "code",
   "execution_count": 7,
   "metadata": {},
   "outputs": [],
   "source": [
    "input_token_index=dict(\n",
    "    [(word,i) for i,word in enumerate(input_words)]\n",
    ")\n",
    "target_token_index=dict(\n",
    "    [(word,i) for i,word in enumerate(target_words)]\n",
    ")\n",
    "input_words=[]\n",
    "target_words=[]"
   ]
  },
  {
   "cell_type": "code",
   "execution_count": 8,
   "metadata": {},
   "outputs": [],
   "source": [
    "decoder_input_data=np.zeros(\n",
    "    (len(input_texts),max_decoder_seq_length,num_decoder_tokens),dtype='float32'\n",
    ")\n",
    "\n",
    "decoder_target_data=np.zeros(\n",
    "    (len(input_texts),max_decoder_seq_length,num_decoder_tokens),dtype='float32'\n",
    ")\n",
    "encoder_input_data=np.zeros(\n",
    "    (len(input_texts),max_encoder_seq_length,num_encoder_tokens),dtype='float32'\n",
    ")\n",
    "\n"
   ]
  },
  {
   "cell_type": "code",
   "execution_count": 9,
   "metadata": {},
   "outputs": [],
   "source": [
    "for i,(input_text,target_text) in enumerate(zip(input_texts,target_texts)):\n",
    "    for t,word in enumerate(input_text):\n",
    "        encoder_input_data[i,t,input_token_index[word]]=1.\n",
    "    for t,word in enumerate(target_text):\n",
    "        decoder_input_data[i,t,target_token_index[word]]=1.\n",
    "        if t>0:\n",
    "            decoder_target_data[i,t-1,target_token_index[word]]=1."
   ]
  },
  {
   "cell_type": "code",
   "execution_count": 11,
   "metadata": {},
   "outputs": [],
   "source": [
    "encoder_inputs=Input(shape=(None,num_encoder_tokens))\n",
    "encoder=LSTM(latent_dim,return_state=True)\n",
    "encoder_outputs,state_h,state_c=encoder(encoder_inputs)\n",
    "encoder_states=[state_h,state_c]"
   ]
  },
  {
   "cell_type": "code",
   "execution_count": 14,
   "metadata": {},
   "outputs": [],
   "source": [
    "decoder_inputs=Input(shape=(None,num_decoder_tokens))\n",
    "decoder_lstm=LSTM(latent_dim,return_sequences=True,return_state=True)\n",
    "decoder_outputs,_,_=decoder_lstm(decoder_inputs,initial_state=encoder_states)\n",
    "decoder_dense=Dense(num_decoder_tokens,activation='softmax')\n",
    "decoder_outputs=decoder_dense(decoder_outputs)"
   ]
  },
  {
   "cell_type": "code",
   "execution_count": null,
   "metadata": {},
   "outputs": [
    {
     "name": "stdout",
     "output_type": "stream",
     "text": [
      "Train on 16000 samples, validate on 4000 samples\n",
      "Epoch 1/100\n",
      "16000/16000 [==============================] - 876s 55ms/step - loss: 2.5998 - val_loss: 2.5289\n",
      "Epoch 2/100\n",
      "16000/16000 [==============================] - 859s 54ms/step - loss: 2.4859 - val_loss: 2.4732\n",
      "Epoch 3/100\n",
      "16000/16000 [==============================] - 860s 54ms/step - loss: 2.4224 - val_loss: 2.4318\n",
      "Epoch 4/100\n",
      "16000/16000 [==============================] - 858s 54ms/step - loss: 2.3612 - val_loss: 2.3725\n",
      "Epoch 5/100\n",
      "16000/16000 [==============================] - 859s 54ms/step - loss: 2.3032 - val_loss: 2.3326\n",
      "Epoch 6/100\n",
      "16000/16000 [==============================] - 858s 54ms/step - loss: 2.2480 - val_loss: 2.2902\n",
      "Epoch 7/100\n",
      "16000/16000 [==============================] - 857s 54ms/step - loss: 2.1951 - val_loss: 2.2518\n",
      "Epoch 8/100\n",
      "16000/16000 [==============================] - 858s 54ms/step - loss: 2.1415 - val_loss: 2.2137\n",
      "Epoch 9/100\n",
      "16000/16000 [==============================] - 857s 54ms/step - loss: 2.0916 - val_loss: 2.1969\n",
      "Epoch 10/100\n",
      "16000/16000 [==============================] - 859s 54ms/step - loss: 2.0419 - val_loss: 2.1530\n",
      "Epoch 11/100\n",
      "16000/16000 [==============================] - 857s 54ms/step - loss: 1.9893 - val_loss: 2.1183\n",
      "Epoch 12/100\n",
      "16000/16000 [==============================] - 857s 54ms/step - loss: 1.9387 - val_loss: 2.0872\n",
      "Epoch 13/100\n",
      "16000/16000 [==============================] - 859s 54ms/step - loss: 1.8864 - val_loss: 2.0619\n",
      "Epoch 14/100\n",
      " 6592/16000 [===========>..................] - ETA: 7:37 - loss: 1.8214"
     ]
    }
   ],
   "source": [
    "model=Model([encoder_inputs,decoder_inputs],decoder_outputs)\n",
    "\n",
    "model.compile(optimizer='rmsprop',loss='categorical_crossentropy')\n",
    "model.fit([encoder_input_data,decoder_input_data],decoder_target_data,batch_size=batch_size,epochs=epochs,validation_split=0.2)\n",
    "model.save('s2s.h5')"
   ]
  },
  {
   "cell_type": "code",
   "execution_count": null,
   "metadata": {},
   "outputs": [],
   "source": [
    "reverse_input_word_index=dict((i,char) for char,i in input_token_index.items())\n",
    "reverse_target_word_index=dictict((i,char) for char in target_token_index.items())\n"
   ]
  },
  {
   "cell_type": "code",
   "execution_count": null,
   "metadata": {},
   "outputs": [],
   "source": [
    "def decode_sequence(input_seq):\n",
    "    # Encode the input as state vectors.\n",
    "    states_value = encoder_model.predict(input_seq)\n",
    "\n",
    "    # Generate empty target sequence of length 1.\n",
    "    target_seq = np.zeros((1, 1, num_decoder_tokens))\n",
    "    # Populate the first character of target sequence with the start character.\n",
    "    target_seq[0, 0, target_token_index['\\t']] = 1.\n",
    "\n",
    "    # Sampling loop for a batch of sequences\n",
    "    # (to simplify, here we assume a batch of size 1).\n",
    "    stop_condition = False\n",
    "    decoded_sentence = ''\n",
    "    while not stop_condition:\n",
    "        output_tokens, h, c = decoder_model.predict(\n",
    "            [target_seq] + states_value)\n",
    "\n",
    "        # Sample a token\n",
    "        sampled_token_index = np.argmax(output_tokens[0, -1, :])\n",
    "        sampled_char = reverse_target_char_index[sampled_token_index]\n",
    "        decoded_sentence += sampled_char\n",
    "\n",
    "        # Exit condition: either hit max length\n",
    "        # or find stop character.\n",
    "        if (sampled_char == '\\n' or\n",
    "           len(decoded_sentence) > max_decoder_seq_length):\n",
    "            stop_condition = True\n",
    "\n",
    "        # Update the target sequence (of length 1).\n",
    "        target_seq = np.zeros((1, 1, num_decoder_tokens))\n",
    "        target_seq[0, 0, sampled_token_index] = 1.\n",
    "\n",
    "        # Update states\n",
    "        states_value = [h, c]\n",
    "\n",
    "    return decoded_sentence\n",
    "\n",
    "\n",
    "for seq_index in range(100):\n",
    "    # Take one sequence (part of the training set)\n",
    "    # for trying out decoding.\n",
    "    input_seq = encoder_input_data[seq_index: seq_index + 1]\n",
    "    decoded_sentence = decode_sequence(input_seq)\n",
    "    print('-')\n",
    "    print('Input sentence:', input_texts[seq_index])\n",
    "    print('Decoded sentence:', decoded_sentence)"
   ]
  }
 ],
 "metadata": {
  "kernelspec": {
   "display_name": "Python 3",
   "language": "python",
   "name": "python3"
  },
  "language_info": {
   "codemirror_mode": {
    "name": "ipython",
    "version": 3
   },
   "file_extension": ".py",
   "mimetype": "text/x-python",
   "name": "python",
   "nbconvert_exporter": "python",
   "pygments_lexer": "ipython3",
   "version": "3.5.2"
  },
  "varInspector": {
   "cols": {
    "lenName": 16,
    "lenType": 16,
    "lenVar": 40
   },
   "kernels_config": {
    "python": {
     "delete_cmd_postfix": "",
     "delete_cmd_prefix": "del ",
     "library": "var_list.py",
     "varRefreshCmd": "print(var_dic_list())"
    },
    "r": {
     "delete_cmd_postfix": ") ",
     "delete_cmd_prefix": "rm(",
     "library": "var_list.r",
     "varRefreshCmd": "cat(var_dic_list()) "
    }
   },
   "types_to_exclude": [
    "module",
    "function",
    "builtin_function_or_method",
    "instance",
    "_Feature"
   ],
   "window_display": false
  }
 },
 "nbformat": 4,
 "nbformat_minor": 2
}
