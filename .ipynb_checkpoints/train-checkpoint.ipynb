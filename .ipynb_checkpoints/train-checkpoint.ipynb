{
 "cells": [
  {
   "cell_type": "code",
   "execution_count": null,
   "metadata": {},
   "outputs": [],
   "source": [
    "from keras.models import Model\n",
    "from keras.layers import Input, LSTM, Dense\n",
    "import numpy as np"
   ]
  },
  {
   "cell_type": "code",
   "execution_count": null,
   "metadata": {},
   "outputs": [],
   "source": [
    "post='stc_weibo_train_post'\n",
    "response='stc_weibo_train_response'"
   ]
  },
  {
   "cell_type": "code",
   "execution_count": null,
   "metadata": {},
   "outputs": [],
   "source": [
    "batch_size=64\n",
    "epochs=100\n",
    "latent_dim=256\n",
    "num_samples=10000\n",
    "split_word=\" \""
   ]
  },
  {
   "cell_type": "code",
   "execution_count": null,
   "metadata": {},
   "outputs": [],
   "source": [
    "input_texts=[]\n",
    "target_texts=[]\n",
    "input_words=set()\n",
    "target_words=set()\n",
    "input_words.add(split_word)\n",
    "target_words.add(split_word)"
   ]
  },
  {
   "cell_type": "code",
   "execution_count": null,
   "metadata": {},
   "outputs": [],
   "source": [
    "with open(post, encoding = 'utf8') as f:\n",
    "    post_lines=f.readlines()\n",
    "with open(response, encoding = 'utf8')  as f:\n",
    "    response_lines=f.readlines()\n",
    "for pl,rl in zip(post_lines[:min(num_samples,len(post_lines)-1)],response_lines[:min(num_samples,len(post_lines)-1)]):\n",
    "    pl=pl.split(split_word)\n",
    "    rl=rl.split(split_word)\n",
    "    input_texts.append(pl)\n",
    "    rl=['\\t']+rl+['\\n']\n",
    "    target_texts.append(rl)\n",
    "    for word in pl:\n",
    "        if word not in input_words:\n",
    "            input_words.add(word)\n",
    "    for word in rl:\n",
    "        if word not in target_words:\n",
    "            target_words.add(word)\n",
    "input_words=sorted(list(input_words))\n",
    "target_words=sorted(list(target_words))\n",
    "num_encoder_tokens=len(input_words)\n",
    "num_decoder_tokens=len(target_words)\n",
    "max_encoder_seq_length=max([len(txt.split(split_word)) for txt in input_texts])\n",
    "max_decoder_seq_length=max([len(txt.split(split_word)) for txt in target_texts])\n",
    "print(\"Num of samples:\",num_samples )\n",
    "print(\"Num of unique input token:\",num_encoder_tokens)\n",
    "print(\"Num of unique ratget token:\",num_decoder_tokens)\n",
    "print(\"Max seq of input:\",max_encoder_seq_length)\n",
    "print(\"Max seq of target:\",max_decoder_seq_length)"
   ]
  },
  {
   "cell_type": "code",
   "execution_count": null,
   "metadata": {},
   "outputs": [],
   "source": [
    "input_token_index=dict(\n",
    "    [(word,i) for i,word in enumerate(input_words)]\n",
    ")\n",
    "target_token_index=dict(\n",
    "    [(word,i) for i,word in enumerate(target_words)]\n",
    ")\n",
    "input_words=[]\n",
    "target_words=[]"
   ]
  },
  {
   "cell_type": "code",
   "execution_count": null,
   "metadata": {},
   "outputs": [],
   "source": [
    "decoder_input_data=np.zeros(\n",
    "    (len(input_texts),max_decoder_seq_length,num_decoder_tokens),dtype='float32'\n",
    ")\n",
    "\n",
    "decoder_target_data=np.zeros(\n",
    "    (len(input_texts),max_decoder_seq_length,num_decoder_tokens),dtype='float32'\n",
    ")\n",
    "encoder_input_data=np.zeros(\n",
    "    (len(input_texts),max_encoder_seq_length,num_encoder_tokens),dtype='float32'\n",
    ")\n",
    "\n"
   ]
  },
  {
   "cell_type": "code",
   "execution_count": null,
   "metadata": {},
   "outputs": [],
   "source": []
  }
 ],
 "metadata": {
  "kernelspec": {
   "display_name": "Python 3",
   "language": "python",
   "name": "python3"
  },
  "language_info": {
   "codemirror_mode": {
    "name": "ipython",
    "version": 3
   },
   "file_extension": ".py",
   "mimetype": "text/x-python",
   "name": "python",
   "nbconvert_exporter": "python",
   "pygments_lexer": "ipython3",
   "version": "3.5.2"
  },
  "varInspector": {
   "cols": {
    "lenName": 16,
    "lenType": 16,
    "lenVar": 40
   },
   "kernels_config": {
    "python": {
     "delete_cmd_postfix": "",
     "delete_cmd_prefix": "del ",
     "library": "var_list.py",
     "varRefreshCmd": "print(var_dic_list())"
    },
    "r": {
     "delete_cmd_postfix": ") ",
     "delete_cmd_prefix": "rm(",
     "library": "var_list.r",
     "varRefreshCmd": "cat(var_dic_list()) "
    }
   },
   "types_to_exclude": [
    "module",
    "function",
    "builtin_function_or_method",
    "instance",
    "_Feature"
   ],
   "window_display": false
  }
 },
 "nbformat": 4,
 "nbformat_minor": 2
}
